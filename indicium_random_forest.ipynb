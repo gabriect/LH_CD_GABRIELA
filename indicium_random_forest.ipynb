{
 "cells": [
  {
   "cell_type": "code",
   "execution_count": 5,
   "metadata": {},
   "outputs": [],
   "source": [
    "import pandas as pd\n",
    "from sklearn.model_selection import train_test_split, GridSearchCV\n",
    "from sklearn.ensemble import RandomForestRegressor\n",
    "from sklearn.metrics import mean_absolute_error, mean_squared_error, r2_score\n",
    "import matplotlib.pyplot as plt\n"
   ]
  },
  {
   "cell_type": "code",
   "execution_count": 8,
   "metadata": {},
   "outputs": [],
   "source": [
    "df = pd.read_csv('teste_indicium_precificacao.csv')\n"
   ]
  },
  {
   "cell_type": "code",
   "execution_count": 9,
   "metadata": {},
   "outputs": [
    {
     "data": {
      "text/html": [
       "<div>\n",
       "<style scoped>\n",
       "    .dataframe tbody tr th:only-of-type {\n",
       "        vertical-align: middle;\n",
       "    }\n",
       "\n",
       "    .dataframe tbody tr th {\n",
       "        vertical-align: top;\n",
       "    }\n",
       "\n",
       "    .dataframe thead th {\n",
       "        text-align: right;\n",
       "    }\n",
       "</style>\n",
       "<table border=\"1\" class=\"dataframe\">\n",
       "  <thead>\n",
       "    <tr style=\"text-align: right;\">\n",
       "      <th></th>\n",
       "      <th>bairro_group</th>\n",
       "      <th>room_type</th>\n",
       "      <th>price</th>\n",
       "      <th>minimo_noites</th>\n",
       "      <th>numero_de_reviews</th>\n",
       "      <th>disponibilidade_365</th>\n",
       "    </tr>\n",
       "  </thead>\n",
       "  <tbody>\n",
       "    <tr>\n",
       "      <th>0</th>\n",
       "      <td>Manhattan</td>\n",
       "      <td>Entire home/apt</td>\n",
       "      <td>225</td>\n",
       "      <td>1</td>\n",
       "      <td>45</td>\n",
       "      <td>355</td>\n",
       "    </tr>\n",
       "    <tr>\n",
       "      <th>1</th>\n",
       "      <td>Manhattan</td>\n",
       "      <td>Private room</td>\n",
       "      <td>150</td>\n",
       "      <td>3</td>\n",
       "      <td>0</td>\n",
       "      <td>365</td>\n",
       "    </tr>\n",
       "    <tr>\n",
       "      <th>2</th>\n",
       "      <td>Brooklyn</td>\n",
       "      <td>Entire home/apt</td>\n",
       "      <td>89</td>\n",
       "      <td>1</td>\n",
       "      <td>270</td>\n",
       "      <td>194</td>\n",
       "    </tr>\n",
       "    <tr>\n",
       "      <th>3</th>\n",
       "      <td>Manhattan</td>\n",
       "      <td>Entire home/apt</td>\n",
       "      <td>80</td>\n",
       "      <td>10</td>\n",
       "      <td>9</td>\n",
       "      <td>0</td>\n",
       "    </tr>\n",
       "    <tr>\n",
       "      <th>4</th>\n",
       "      <td>Manhattan</td>\n",
       "      <td>Entire home/apt</td>\n",
       "      <td>200</td>\n",
       "      <td>3</td>\n",
       "      <td>74</td>\n",
       "      <td>129</td>\n",
       "    </tr>\n",
       "  </tbody>\n",
       "</table>\n",
       "</div>"
      ],
      "text/plain": [
       "  bairro_group        room_type  price  minimo_noites  numero_de_reviews  \\\n",
       "0    Manhattan  Entire home/apt    225              1                 45   \n",
       "1    Manhattan     Private room    150              3                  0   \n",
       "2     Brooklyn  Entire home/apt     89              1                270   \n",
       "3    Manhattan  Entire home/apt     80             10                  9   \n",
       "4    Manhattan  Entire home/apt    200              3                 74   \n",
       "\n",
       "   disponibilidade_365  \n",
       "0                  355  \n",
       "1                  365  \n",
       "2                  194  \n",
       "3                    0  \n",
       "4                  129  "
      ]
     },
     "execution_count": 9,
     "metadata": {},
     "output_type": "execute_result"
    }
   ],
   "source": [
    "df = df.drop(columns=['id', 'nome', 'host_id', 'host_name', 'ultima_review', 'reviews_por_mes', 'latitude', 'longitude', 'bairro', 'calculado_host_listings_count'])\n",
    "df.head()"
   ]
  },
  {
   "cell_type": "code",
   "execution_count": 10,
   "metadata": {},
   "outputs": [
    {
     "name": "stdout",
     "output_type": "stream",
     "text": [
      "              price  minimo_noites  numero_de_reviews  disponibilidade_365\n",
      "count  35201.000000   35201.000000       35201.000000         35201.000000\n",
      "mean     119.288799       2.765092          12.362632            87.923781\n",
      "std       67.832345       1.917478          16.631702           122.289098\n",
      "min        0.000000       1.000000           0.000000             0.000000\n",
      "25%       65.000000       1.000000           1.000000             0.000000\n",
      "50%      100.000000       2.000000           5.000000            11.000000\n",
      "75%      155.000000       3.000000          17.000000           158.000000\n",
      "max      334.000000      11.000000          71.000000           365.000000\n"
     ]
    }
   ],
   "source": [
    "colunas_outliers = ['price', 'minimo_noites', 'numero_de_reviews', 'disponibilidade_365']\n",
    "\n",
    "#função que remove outliers com IQR\n",
    "def remover_outliers_iqr(df, col):\n",
    "    Q1 = df[col].quantile(0.25)  \n",
    "    Q3 = df[col].quantile(0.75)  \n",
    "    IQR = Q3 - Q1 \n",
    "    lower_bound = Q1 - 1.5 * IQR  \n",
    "    upper_bound = Q3 + 1.5 * IQR  \n",
    "    return df[(df[col] >= lower_bound) & (df[col] <= upper_bound)]\n",
    "\n",
    "\n",
    "for coluna in colunas_outliers:\n",
    "    df = remover_outliers_iqr(df, coluna)\n",
    "\n",
    "print(df.describe())\n"
   ]
  },
  {
   "cell_type": "code",
   "execution_count": 12,
   "metadata": {},
   "outputs": [],
   "source": [
    "X = df.drop(columns=['price'])\n",
    "y = df['price']\n"
   ]
  },
  {
   "cell_type": "code",
   "execution_count": 13,
   "metadata": {},
   "outputs": [],
   "source": [
    "X = pd.get_dummies(X, dtype=int)"
   ]
  },
  {
   "cell_type": "code",
   "execution_count": 14,
   "metadata": {},
   "outputs": [],
   "source": [
    "X_train, X_test, y_train, y_test = train_test_split(X, y, random_state=42, test_size=0.20)"
   ]
  },
  {
   "cell_type": "code",
   "execution_count": 15,
   "metadata": {},
   "outputs": [],
   "source": [
    "model = RandomForestRegressor(random_state=42)"
   ]
  },
  {
   "cell_type": "code",
   "execution_count": 16,
   "metadata": {},
   "outputs": [],
   "source": [
    "\n",
    "#hiperparam. p teste\n",
    "param_grid = {\n",
    "    'n_estimators': [50, 100, 200, 300],  \n",
    "    'max_depth': [5, 10, 15, None],  \n",
    "    'max_features': [None, 'sqrt', 'log2']  \n",
    "}\n"
   ]
  },
  {
   "cell_type": "code",
   "execution_count": 17,
   "metadata": {},
   "outputs": [],
   "source": [
    "#busca dos melhores valores\n",
    "grid_search = GridSearchCV(estimator=model, param_grid=param_grid, \n",
    "                           cv=5, scoring='neg_mean_absolute_error', n_jobs=-1)"
   ]
  },
  {
   "cell_type": "code",
   "execution_count": 18,
   "metadata": {},
   "outputs": [
    {
     "name": "stdout",
     "output_type": "stream",
     "text": [
      "melhores parâmetros: {'max_depth': 10, 'max_features': 'sqrt', 'n_estimators': 300}\n"
     ]
    }
   ],
   "source": [
    "\n",
    "grid_search.fit(X_train, y_train)\n",
    "\n",
    "print(\"melhores parâmetros:\", grid_search.best_params_)"
   ]
  },
  {
   "cell_type": "code",
   "execution_count": 19,
   "metadata": {},
   "outputs": [],
   "source": [
    "best_model = grid_search.best_estimator_\n",
    "y_pred = best_model.predict(X_test)"
   ]
  },
  {
   "cell_type": "code",
   "execution_count": 20,
   "metadata": {},
   "outputs": [
    {
     "name": "stdout",
     "output_type": "stream",
     "text": [
      "Mean Absolute Error: 36.45930325291385\n",
      "Mean Squared Error: 2454.97567782858\n",
      "R² Score: 0.4744\n"
     ]
    }
   ],
   "source": [
    "\n",
    "mae = mean_absolute_error(y_test, y_pred)\n",
    "mse = mean_squared_error(y_test, y_pred)\n",
    "r2 = r2_score(y_test, y_pred)\n",
    "print(f\"Mean Absolute Error: {mae}\")\n",
    "print(f\"Mean Squared Error: {mse}\")\n",
    "print(f\"R² Score: {r2:.4f}\")"
   ]
  },
  {
   "cell_type": "code",
   "execution_count": 21,
   "metadata": {},
   "outputs": [
    {
     "name": "stdout",
     "output_type": "stream",
     "text": [
      "Previsão de preço para o apartamento: $202.39\n"
     ]
    }
   ],
   "source": [
    "#predição do modelo apresentado\n",
    "\n",
    "\n",
    "apartamento = {\n",
    "    'id': 2595,\n",
    "    'nome': 'Skylit Midtown Castle',\n",
    "    'host_id': 2845,\n",
    "    'host_name': 'Jennifer',\n",
    "    'bairro_group': 'Manhattan',\n",
    "    'bairro': 'Midtown',\n",
    "    'latitude': 40.75362,\n",
    "    'longitude': -73.98377,\n",
    "    'room_type': 'Entire home/apt',\n",
    "    'minimo_noites': 1,\n",
    "    'numero_de_reviews': 45,\n",
    "    'ultima_review': '2019-05-21',\n",
    "    'reviews_por_mes': 0.38,\n",
    "    'calculado_host_listings_count': 2,\n",
    "    'disponibilidade_365': 355\n",
    "}\n",
    "\n",
    "\n",
    "apartamento_df = pd.DataFrame([apartamento])\n",
    "\n",
    "\n",
    "apartamento_df = apartamento_df.drop(columns=['id', 'nome', 'host_id', 'host_name', 'ultima_review', 'reviews_por_mes', 'latitude', 'longitude', 'bairro', 'calculado_host_listings_count'])\n",
    "\n",
    "\n",
    "apartamento_df = pd.get_dummies(apartamento_df, dtype=int)\n",
    "\n",
    "\n",
    "apartamento_df = apartamento_df.reindex(columns=X.columns, fill_value=0)\n",
    "\n",
    "\n",
    "previsao = best_model.predict(apartamento_df)\n",
    "\n",
    "print(f\"Previsão de preço para o apartamento: ${previsao[0]:.2f}\")"
   ]
  }
 ],
 "metadata": {
  "kernelspec": {
   "display_name": "Python 3",
   "language": "python",
   "name": "python3"
  },
  "language_info": {
   "codemirror_mode": {
    "name": "ipython",
    "version": 3
   },
   "file_extension": ".py",
   "mimetype": "text/x-python",
   "name": "python",
   "nbconvert_exporter": "python",
   "pygments_lexer": "ipython3",
   "version": "3.12.1"
  }
 },
 "nbformat": 4,
 "nbformat_minor": 2
}
